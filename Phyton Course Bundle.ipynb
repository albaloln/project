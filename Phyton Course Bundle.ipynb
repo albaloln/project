{
 "cells": [
  {
   "cell_type": "code",
   "execution_count": 14,
   "metadata": {},
   "outputs": [
    {
     "name": "stdout",
     "output_type": "stream",
     "text": [
      "Race\n",
      "GAME\n",
      "it is lie\n"
     ]
    }
   ],
   "source": [
    "Str = 'Life is not a race or game, it is lie'\n",
    "print(Str[14:18].capitalize())\n",
    "print((Str[22:26]).upper())\n",
    "print(Str[28:])"
   ]
  },
  {
   "cell_type": "code",
   "execution_count": 17,
   "metadata": {},
   "outputs": [
    {
     "ename": "SyntaxError",
     "evalue": "invalid syntax (<ipython-input-17-7ca962a2039b>, line 4)",
     "output_type": "error",
     "traceback": [
      "\u001b[1;36m  File \u001b[1;32m\"<ipython-input-17-7ca962a2039b>\"\u001b[1;36m, line \u001b[1;32m4\u001b[0m\n\u001b[1;33m    num4 = num2 * num3\u001b[0m\n\u001b[1;37m       ^\u001b[0m\n\u001b[1;31mSyntaxError\u001b[0m\u001b[1;31m:\u001b[0m invalid syntax\n"
     ]
    }
   ],
   "source": [
    "# Start of by creating variables\n",
    "num1, num2, num3 = 112, 20.45, 7+3j\n",
    "print(sum(sum(num1, num2), num3)\n",
    "num4 = num2 * num3\n",
    "print(num4)\n"
   ]
  },
  {
   "cell_type": "code",
   "execution_count": 20,
   "metadata": {},
   "outputs": [
    {
     "name": "stdout",
     "output_type": "stream",
     "text": [
      "  'Beach\n",
      "Beach\n",
      " 'Beach'\n",
      " on the  'Beach'\n"
     ]
    }
   ],
   "source": [
    "Str = \"Casting on the  'Beach'\"\n",
    "print(Str[14:-1])\n",
    "print(Str[-6:-1])\n",
    "print(Str[15:])\n",
    "print(Str[7:])"
   ]
  },
  {
   "cell_type": "code",
   "execution_count": 22,
   "metadata": {},
   "outputs": [
    {
     "name": "stdout",
     "output_type": "stream",
     "text": [
      "(45+7j)\n"
     ]
    }
   ],
   "source": [
    "print(45 + 7j)"
   ]
  },
  {
   "cell_type": "code",
   "execution_count": 23,
   "metadata": {},
   "outputs": [
    {
     "name": "stdout",
     "output_type": "stream",
     "text": [
      "rED\n"
     ]
    }
   ],
   "source": [
    "lst = [ 'Blue', 'Black', 'Red', 'Green']\n",
    "print(lst[2].swapcase())"
   ]
  },
  {
   "cell_type": "code",
   "execution_count": 24,
   "metadata": {},
   "outputs": [
    {
     "name": "stdout",
     "output_type": "stream",
     "text": [
      "The hills\n"
     ]
    }
   ],
   "source": [
    "Str = 'Head on the hills'\n",
    "print(Str[-9:].capitalize())"
   ]
  },
  {
   "cell_type": "code",
   "execution_count": 25,
   "metadata": {},
   "outputs": [
    {
     "name": "stdout",
     "output_type": "stream",
     "text": [
      "(1, 2)\n"
     ]
    }
   ],
   "source": [
    "tpl = (1,)\n",
    "tpl += (2,)\n",
    "print(tpl) "
   ]
  },
  {
   "cell_type": "code",
   "execution_count": 2,
   "metadata": {},
   "outputs": [
    {
     "name": "stdout",
     "output_type": "stream",
     "text": [
      "156\n"
     ]
    }
   ],
   "source": [
    "#Arbitrary arguments (*args)\n",
    "def addition (*n):\n",
    "    sm = 0\n",
    "    for num in n:\n",
    "        sm+= num\n",
    "    print(sm)\n",
    "        \n",
    "addition (23, 25, 52, 56)"
   ]
  },
  {
   "cell_type": "code",
   "execution_count": 5,
   "metadata": {},
   "outputs": [
    {
     "name": "stdout",
     "output_type": "stream",
     "text": [
      "name : Jake\n",
      "age : 17\n",
      "marks : 88\n"
     ]
    }
   ],
   "source": [
    "#Arbitrary keyword arguments (*args)\n",
    "def info (**kw):\n",
    "    for k, v in kw.items():\n",
    "        print(k, ':', v)\n",
    "        \n",
    "info (name = 'Jake', age = 17, marks = 88)\n"
   ]
  },
  {
   "cell_type": "code",
   "execution_count": 6,
   "metadata": {},
   "outputs": [
    {
     "name": "stdout",
     "output_type": "stream",
     "text": [
      "15\n"
     ]
    }
   ],
   "source": [
    "#lambda function \n",
    "sub = lambda n, m : n-m\n",
    "\n",
    "print (sub(19, 4))"
   ]
  },
  {
   "cell_type": "code",
   "execution_count": 9,
   "metadata": {},
   "outputs": [
    {
     "name": "stdout",
     "output_type": "stream",
     "text": [
      "[12, 12, 3, 44, 56, 99, 12, 3, 44]\n",
      "[3, 12, 44, 56, 99]\n"
     ]
    }
   ],
   "source": [
    "#Create a duplicate list elements remover function \n",
    "\n",
    "lst = [12, 12,3,44,56,99,12,3,44]\n",
    "\n",
    "def remove_dup(l):\n",
    "    unique = set(l)\n",
    "    u = list(unique)\n",
    "    u.sort()\n",
    "    return u\n",
    "    \n",
    "print (lst)\n",
    "print (remove_dup(lst))\n"
   ]
  },
  {
   "cell_type": "code",
   "execution_count": 12,
   "metadata": {},
   "outputs": [
    {
     "name": "stdout",
     "output_type": "stream",
     "text": [
      "string\n",
      "<class 'str'>\n"
     ]
    }
   ],
   "source": [
    "#Redefining the built in-type() function \n",
    "def type_dt(data):\n",
    "    dt =  str(type(data))\n",
    "    if 'str' in dt:\n",
    "        print('string')\n",
    "    elif 'int' in dt:\n",
    "        print('integer')\n",
    "    elif 'float' in dt:\n",
    "        print('floating point number')\n",
    "    elif 'complex' in dt:\n",
    "        print('Complez number')\n",
    "\n",
    "type_dt('Str')\n",
    "print(type('Str'))"
   ]
  },
  {
   "cell_type": "code",
   "execution_count": 14,
   "metadata": {},
   "outputs": [
    {
     "data": {
      "text/plain": [
       "126.57"
      ]
     },
     "execution_count": 14,
     "metadata": {},
     "output_type": "execute_result"
    }
   ],
   "source": [
    "def sum_r(*n):\n",
    "    sm = 0\n",
    "    d = []\n",
    "    \n",
    "    for num in n:\n",
    "        sm += num \n",
    "        Num = str(num).split('.')\n",
    "        d.append(len(Num[1]))\n",
    "    \n",
    "    min_d = min(d)\n",
    "    return round(sm, min_d)\n",
    "\n",
    "sum_r(12.56, 12.848, 11.1567, 90.007)"
   ]
  },
  {
   "cell_type": "code",
   "execution_count": null,
   "metadata": {},
   "outputs": [],
   "source": []
  }
 ],
 "metadata": {
  "kernelspec": {
   "display_name": "Python 3",
   "language": "python",
   "name": "python3"
  },
  "language_info": {
   "codemirror_mode": {
    "name": "ipython",
    "version": 3
   },
   "file_extension": ".py",
   "mimetype": "text/x-python",
   "name": "python",
   "nbconvert_exporter": "python",
   "pygments_lexer": "ipython3",
   "version": "3.7.6"
  }
 },
 "nbformat": 4,
 "nbformat_minor": 4
}
