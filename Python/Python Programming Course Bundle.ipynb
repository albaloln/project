{
 "cells": [
  {
   "cell_type": "code",
   "execution_count": 9,
   "id": "9b4c6ad2",
   "metadata": {},
   "outputs": [],
   "source": [
    "class Coder ():\n",
    "    def __init__(self, name):\n",
    "        self.name = name\n",
    "    \n",
    "    def info(self):\n",
    "        print (self.name)\n",
    "    \n",
    "    def is_pythonner (self):\n",
    "        if 'Python' in self.language:\n",
    "            print (True)\n",
    "        else:\n",
    "            print(False)\n",
    "            \n",
    "cd = Coder('Jake')\n",
    "cd.info()\n",
    "cd.language = ['Python', 'C']\n",
    "\n",
    "print(cd.is_pythonner())\n",
    "\n",
    "del (cd.language)\n",
    "\n",
    "print (cd.language)"
   ]
  },
  {
   "cell_type": "code",
   "execution_count": 16,
   "id": "6ab5f185",
   "metadata": {},
   "outputs": [
    {
     "name": "stdout",
     "output_type": "stream",
     "text": [
      "10\n",
      "Codin\n"
     ]
    }
   ],
   "source": [
    "class Python ():\n",
    "    name = 10\n",
    "    _age = 17\n",
    "    __key = 90\n",
    "    \n",
    "    def __init__ (self):\n",
    "        pass\n",
    "    \n",
    "    def python_code (self):\n",
    "        print ('Codin')\n",
    "\n",
    "py = Python ()\n",
    "print(py.name)\n",
    "py.python_code()\n",
    "py.__init__()"
   ]
  },
  {
   "cell_type": "code",
   "execution_count": 23,
   "id": "0e45993e",
   "metadata": {},
   "outputs": [
    {
     "name": "stdout",
     "output_type": "stream",
     "text": [
      "True\n"
     ]
    }
   ],
   "source": [
    "class Coder():\n",
    "    def __init__ (self, name):\n",
    "        self.name = name\n",
    "    def get_lang (self, lang):\n",
    "        self.lang = lang\n",
    "        \n",
    "def is_pythonner (lst):\n",
    "    if 'Python' in lst:\n",
    "        print(True)\n",
    "    else:\n",
    "        print(False)\n",
    "\n",
    "cd = Coder(\"Jake\")\n",
    "cd.get_lang(['Python', 'c'])\n",
    "is_pythonner(cd.lang)\n",
    "        "
   ]
  },
  {
   "cell_type": "code",
   "execution_count": 25,
   "id": "4b97a069",
   "metadata": {},
   "outputs": [
    {
     "name": "stdout",
     "output_type": "stream",
     "text": [
      "3.95 9.6\n"
     ]
    }
   ],
   "source": [
    "class Algebra():\n",
    "    def __init__(self, r=0.0, i = 0.0):\n",
    "        self.real = r\n",
    "        self.imag = i\n",
    "    \n",
    "    def __add__(self, y):\n",
    "        self.real = self.real + y.real\n",
    "        self.imag = self.imag + y.imag\n",
    "        return self\n",
    "    \n",
    "    def show_val (self):\n",
    "        print(self.real, self.imag)\n",
    "        \n",
    "    \n",
    "num1= Algebra (2.5, 6.25)\n",
    "num2 = Algebra (1.45, 3.35)\n",
    "num3 = num1 + num2\n",
    "num3.show_val()"
   ]
  },
  {
   "cell_type": "code",
   "execution_count": 29,
   "id": "8e341d79",
   "metadata": {},
   "outputs": [
    {
     "name": "stdout",
     "output_type": "stream",
     "text": [
      "1024\n",
      "10241024\n"
     ]
    }
   ],
   "source": [
    "class Numeric_Str():\n",
    "    def __init__(self, str= ''):\n",
    "        self.str = str\n",
    "    \n",
    "    def __int__ (self)\n",
    "    \n",
    "num = Numeric_Str('1024')\n",
    "print(num.str)\n",
    "print(num.str*2)"
   ]
  },
  {
   "cell_type": "markdown",
   "id": "01c9e9a0",
   "metadata": {},
   "source": [
    "53. Error handling in phyton"
   ]
  },
  {
   "cell_type": "code",
   "execution_count": 1,
   "id": "e949f4dc",
   "metadata": {},
   "outputs": [
    {
     "ename": "TypeError",
     "evalue": "can only concatenate str (not \"int\") to str",
     "output_type": "error",
     "traceback": [
      "\u001b[1;31m---------------------------------------------------------------------------\u001b[0m",
      "\u001b[1;31mTypeError\u001b[0m                                 Traceback (most recent call last)",
      "\u001b[1;32mC:\\Users\\ALBAME~1\\AppData\\Local\\Temp/ipykernel_10420/3073284142.py\u001b[0m in \u001b[0;36m<module>\u001b[1;34m\u001b[0m\n\u001b[1;32m----> 1\u001b[1;33m \u001b[0mprint\u001b[0m\u001b[1;33m(\u001b[0m\u001b[1;34m\"str\"\u001b[0m \u001b[1;33m+\u001b[0m \u001b[1;36m56\u001b[0m\u001b[1;33m)\u001b[0m\u001b[1;33m\u001b[0m\u001b[1;33m\u001b[0m\u001b[0m\n\u001b[0m",
      "\u001b[1;31mTypeError\u001b[0m: can only concatenate str (not \"int\") to str"
     ]
    }
   ],
   "source": [
    "print(\"str\" + 56)"
   ]
  },
  {
   "cell_type": "code",
   "execution_count": 5,
   "id": "f9f0ea21",
   "metadata": {},
   "outputs": [
    {
     "name": "stdout",
     "output_type": "stream",
     "text": [
      "90\n",
      "89\n"
     ]
    }
   ],
   "source": [
    "a = 90 \n",
    "b = 89\n",
    "print (a)\n",
    "print (b)"
   ]
  },
  {
   "cell_type": "code",
   "execution_count": 12,
   "id": "465f185e",
   "metadata": {},
   "outputs": [
    {
     "name": "stdout",
     "output_type": "stream",
     "text": [
      "Number_1\n",
      "Number_2\n",
      "0.5\n"
     ]
    }
   ],
   "source": [
    "try:\n",
    "    num1 = int(input(\"Number_\"))\n",
    "    num2 = int(input(\"Number_\"))\n",
    "    print (num1/num2)\n",
    "except ZeroDivisionError:\n",
    "    print(\"0 cannot be the divisor\")\n",
    "except ValueError:\n",
    "    print(\"Enter correct number\")\n",
    "except:\n",
    "    print (\"Something went wrong\")"
   ]
  },
  {
   "cell_type": "markdown",
   "id": "f0507f2d",
   "metadata": {},
   "source": [
    "54. User-defined Errors"
   ]
  },
  {
   "cell_type": "code",
   "execution_count": 20,
   "id": "2c304d10",
   "metadata": {},
   "outputs": [
    {
     "name": "stdout",
     "output_type": "stream",
     "text": [
      "Number_2\n",
      "Number_\n",
      "Somthing went wrong\n",
      "Execution complete\n"
     ]
    }
   ],
   "source": [
    "class ZeroCubeError(Exception):\n",
    "    '''0 can't be passed as a cube'''\n",
    "\n",
    "class Cube():\n",
    "    def __init__(self, num):\n",
    "        num= int(num)\n",
    "        if num != 0:\n",
    "            self.qub = num**3\n",
    "        else:\n",
    "            raise ZeroCubeError\n",
    "\n",
    "try:\n",
    "    num =Cube(input('Number_'))\n",
    "    num1 =Cube(input('Number_'))\n",
    "except ZeroCubeError:\n",
    "    print(ZeroCubeError.__doc__)\n",
    "except:\n",
    "    print(\"Somthing went wrong\")\n",
    "else:\n",
    "    print(\"The Quotient \"+str(num))\n",
    "    print(\"The Quotient \"+str(num.qub))\n",
    "finally:\n",
    "    print(\"Execution complete\")"
   ]
  },
  {
   "cell_type": "markdown",
   "id": "fa967cc7",
   "metadata": {},
   "source": [
    "60. Modules and packages"
   ]
  },
  {
   "cell_type": "code",
   "execution_count": null,
   "id": "de272d82",
   "metadata": {},
   "outputs": [],
   "source": []
  }
 ],
 "metadata": {
  "kernelspec": {
   "display_name": "Python 3 (ipykernel)",
   "language": "python",
   "name": "python3"
  },
  "language_info": {
   "codemirror_mode": {
    "name": "ipython",
    "version": 3
   },
   "file_extension": ".py",
   "mimetype": "text/x-python",
   "name": "python",
   "nbconvert_exporter": "python",
   "pygments_lexer": "ipython3",
   "version": "3.9.7"
  }
 },
 "nbformat": 4,
 "nbformat_minor": 5
}
